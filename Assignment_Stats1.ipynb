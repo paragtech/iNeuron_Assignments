{
  "nbformat": 4,
  "nbformat_minor": 0,
  "metadata": {
    "colab": {
      "name": "Assignment Stats1.ipynb",
      "provenance": [],
      "authorship_tag": "ABX9TyPdWnNm7JXfJVb6sCtYwUHv",
      "include_colab_link": true
    },
    "kernelspec": {
      "name": "python3",
      "display_name": "Python 3"
    }
  },
  "cells": [
    {
      "cell_type": "markdown",
      "metadata": {
        "id": "view-in-github",
        "colab_type": "text"
      },
      "source": [
        "<a href=\"https://colab.research.google.com/github/paragtech/iNeuron_Assignments_MLDL/blob/master/Assignment_Stats1.ipynb\" target=\"_parent\"><img src=\"https://colab.research.google.com/assets/colab-badge.svg\" alt=\"Open In Colab\"/></a>"
      ]
    },
    {
      "cell_type": "markdown",
      "metadata": {
        "id": "k8AwHqmzrRdH"
      },
      "source": [
        "## Calculate the mean, median, mode and standard deviation for the problem\r\n",
        "statements 1& 2."
      ]
    },
    {
      "cell_type": "markdown",
      "metadata": {
        "id": "pw4yV-eBrO_h"
      },
      "source": [
        "##Problem Statement 1:\r\n",
        "The marks awarded for an assignment set for a Year 8 class of 20 students were as\r\n",
        "follows:\r\n",
        "6 7 5 7 7 8 7 6 9 7 4 10 6 8 8 9 5 6 4 8"
      ]
    },
    {
      "cell_type": "code",
      "metadata": {
        "colab": {
          "base_uri": "https://localhost:8080/"
        },
        "id": "gSSHfohjrAo_",
        "outputId": "7a9d707b-779c-4dd2-e4af-32a8443d17d6"
      },
      "source": [
        "def mean(dt):\r\n",
        "  mean = 0\r\n",
        "  for i in dt:\r\n",
        "    mean=mean+i\r\n",
        "  return mean/len(dt)\r\n",
        "\r\n",
        "dt = [6,7,5,7,7,8,7,6,9,7,4,10,6,8,8,9,5,6,4,8]\r\n",
        "print(\"Mean is :\", mean(dt))"
      ],
      "execution_count": null,
      "outputs": [
        {
          "output_type": "stream",
          "text": [
            "Mean is : 6.85\n"
          ],
          "name": "stdout"
        }
      ]
    },
    {
      "cell_type": "code",
      "metadata": {
        "id": "MQYlfZH41M6N",
        "colab": {
          "base_uri": "https://localhost:8080/"
        },
        "outputId": "f253592f-8c1e-41e8-b2dc-f59d56ad40be"
      },
      "source": [
        "import numpy as np\r\n",
        "def median(dt):\r\n",
        "    sort_data = np.sort(dt)\r\n",
        "    length = len(sort_data)\r\n",
        "    if length%2 == 0:\r\n",
        "        index = int(length/2)\r\n",
        "        median = sort_data[index-1]\r\n",
        "    else:\r\n",
        "        index1 = int((length+1)/2)\r\n",
        "        index2 = int((length-1)/2)\r\n",
        "        median = (sort_data[index1-1] + sort_data[index2-1])/2\r\n",
        "    return median\r\n",
        "print(\"Median is :\", median(dt))"
      ],
      "execution_count": null,
      "outputs": [
        {
          "output_type": "stream",
          "text": [
            "Median is : 7\n"
          ],
          "name": "stdout"
        }
      ]
    },
    {
      "cell_type": "code",
      "metadata": {
        "colab": {
          "base_uri": "https://localhost:8080/"
        },
        "id": "pPbB0q5fL-va",
        "outputId": "e52efc16-1f07-4458-b5e4-5270654edfad"
      },
      "source": [
        "from collections import Counter\r\n",
        "def mode1(dt):\r\n",
        "    count = Counter(dt)\r\n",
        "    c=count.most_common(1)\r\n",
        "    return c\r\n",
        "print('Mode is :',mode1(dt))"
      ],
      "execution_count": null,
      "outputs": [
        {
          "output_type": "stream",
          "text": [
            "Mode is : [(7, 5)]\n"
          ],
          "name": "stdout"
        }
      ]
    },
    {
      "cell_type": "code",
      "metadata": {
        "colab": {
          "base_uri": "https://localhost:8080/"
        },
        "id": "lN6XmOKANC3u",
        "outputId": "ca804787-5a69-4134-ee0b-5b962ef3e1b0"
      },
      "source": [
        "def standard_deviation(dt,mean):\r\n",
        "    s =0\r\n",
        "    for i in dt:\r\n",
        "        diff = (i-mean)**2\r\n",
        "        s += diff\r\n",
        "        diff =0\r\n",
        "    std = (s/len(dt)) ** 0.5\r\n",
        "    return std\r\n",
        "mean=mean(dt)\r\n",
        "print(\"Standard Deviation is :\", standard_deviation(dt,mean))"
      ],
      "execution_count": null,
      "outputs": [
        {
          "output_type": "stream",
          "text": [
            "Standard Deviation is : 1.5898113095584647\n"
          ],
          "name": "stdout"
        }
      ]
    },
    {
      "cell_type": "markdown",
      "metadata": {
        "id": "6G_FFcxxPV74"
      },
      "source": [
        "## Problem Statement 2 :\r\n",
        "The number of calls from motorists per day for roadside service was recorded for a particular month:\r\n",
        "28, 122, 217, 130, 120, 86, 80, 90, 140, 120, 70, 40, 145, 113, 90, 68, 174, 194, 170,\r\n",
        "100, 75, 104, 97, 75,\r\n",
        "123, 100, 75, 104, 97, 75, 123, 100, 89, 120, 109"
      ]
    },
    {
      "cell_type": "code",
      "metadata": {
        "id": "OWh1v7jqPn5f"
      },
      "source": [
        "no_calls = [28,122,217,130,120,86,80,90,140,120,70,40,145,113,90,68,174,194,170,100,75,104,97,75,123,100,75,104,97,75,123,100,89,120,109]"
      ],
      "execution_count": 1,
      "outputs": []
    },
    {
      "cell_type": "code",
      "metadata": {
        "colab": {
          "base_uri": "https://localhost:8080/",
          "height": 180
        },
        "id": "oUm9C4zSOukf",
        "outputId": "3a48f77b-a164-4b9b-8a67-10b0d7751ca2"
      },
      "source": [
        "mean2 = np.mean(no_calls)\r\n",
        "mean2"
      ],
      "execution_count": 2,
      "outputs": [
        {
          "output_type": "error",
          "ename": "NameError",
          "evalue": "ignored",
          "traceback": [
            "\u001b[0;31m---------------------------------------------------------------------------\u001b[0m",
            "\u001b[0;31mNameError\u001b[0m                                 Traceback (most recent call last)",
            "\u001b[0;32m<ipython-input-2-14b87d298f0d>\u001b[0m in \u001b[0;36m<module>\u001b[0;34m()\u001b[0m\n\u001b[0;32m----> 1\u001b[0;31m \u001b[0mmean2\u001b[0m \u001b[0;34m=\u001b[0m \u001b[0mnp\u001b[0m\u001b[0;34m.\u001b[0m\u001b[0mmean\u001b[0m\u001b[0;34m(\u001b[0m\u001b[0mno_calls\u001b[0m\u001b[0;34m)\u001b[0m\u001b[0;34m\u001b[0m\u001b[0;34m\u001b[0m\u001b[0m\n\u001b[0m\u001b[1;32m      2\u001b[0m \u001b[0mmean2\u001b[0m\u001b[0;34m\u001b[0m\u001b[0;34m\u001b[0m\u001b[0m\n",
            "\u001b[0;31mNameError\u001b[0m: name 'np' is not defined"
          ]
        }
      ]
    },
    {
      "cell_type": "code",
      "metadata": {
        "id": "lZ3CkhMSPxi6"
      },
      "source": [
        "median2 = np.median(no_calls)\r\n",
        "median2"
      ],
      "execution_count": null,
      "outputs": []
    },
    {
      "cell_type": "code",
      "metadata": {
        "id": "aGXO78kIQtiV"
      },
      "source": [
        "from scipy.stats import mode \r\n",
        "mode2 = mode(no_calls)\r\n",
        "mode2"
      ],
      "execution_count": null,
      "outputs": []
    },
    {
      "cell_type": "code",
      "metadata": {
        "id": "1RQ7cJj3RB3G"
      },
      "source": [
        "standard_deviation2 = np.std(no_calls)\r\n",
        "standard_deviation2"
      ],
      "execution_count": null,
      "outputs": []
    },
    {
      "cell_type": "markdown",
      "metadata": {
        "id": "hkfq5cogRUpi"
      },
      "source": [
        "## Problem Statement 3:\r\n",
        "The number of times I go to the gym in weekdays, are given below along with its\r\n",
        "associated probability:\r\n",
        "x = 0, 1, 2, 3, 4, 5\r\n",
        "f(x) = 0.09, 0.15, 0.40, 0.25, 0.10, 0.01\r\n",
        "Calculate the mean no. of workouts in a week. Also evaluate the variance involved in it."
      ]
    },
    {
      "cell_type": "code",
      "metadata": {
        "id": "br6pjhT7RN-R"
      },
      "source": [
        "def mean_prob(x,fx):\r\n",
        "    mean=0\r\n",
        "    for i in range(len(x)):\r\n",
        "        data = x[i]*fx[i]\r\n",
        "        mean = mean+data\r\n",
        "    return mean"
      ],
      "execution_count": null,
      "outputs": []
    },
    {
      "cell_type": "code",
      "metadata": {
        "id": "Deqt_AG4SQT1"
      },
      "source": [
        "x = [0,1,2,3,4,5]\r\n",
        "fx=[0.09,0.15,0.40,0.25,0.10,0.01]"
      ],
      "execution_count": null,
      "outputs": []
    },
    {
      "cell_type": "code",
      "metadata": {
        "id": "gHBg1vDpSTBn"
      },
      "source": [
        "a=mean_prob(x,fx)"
      ],
      "execution_count": null,
      "outputs": []
    },
    {
      "cell_type": "code",
      "metadata": {
        "id": "Iu66CS3oSW8E"
      },
      "source": [
        "def var_prob(x,mean,fx):\r\n",
        "    var=0\r\n",
        "    for i in range(len(x)):\r\n",
        "        data = ((x[i]-mean)**2)*fx[i]\r\n",
        "        var = var+data\r\n",
        "    return var"
      ],
      "execution_count": null,
      "outputs": []
    },
    {
      "cell_type": "code",
      "metadata": {
        "id": "ctUptyJFSa9U"
      },
      "source": [
        "b=var_prob(x,a,fx)"
      ],
      "execution_count": null,
      "outputs": []
    },
    {
      "cell_type": "code",
      "metadata": {
        "id": "ojTgDwhXSdb6"
      },
      "source": [
        "print('Mean no. of Workouts in a week :{} and Variance involved:{}'.format(a,b))"
      ],
      "execution_count": null,
      "outputs": []
    },
    {
      "cell_type": "markdown",
      "metadata": {
        "id": "WTfyQHD_SkS2"
      },
      "source": [
        "## Problem Statement 4:\r\n",
        "Let the continuous random variable D denote the diameter of the hole drilled in an\r\n",
        "aluminum sheet. The target diameter to be achieved is 12.5mm. Random\r\n",
        "disturbances in the process often result in inaccuracy.\r\n",
        "Historical data shows that the distribution of D can be modelled by the PDF (d) =\r\n",
        "20e−20(d−12.5), d ≥ 12.5. If a part with diameter > 12.6 mm needs to be scrapped,\r\n",
        "what is the proportion of those parts? What is the CDF when the diameter is of 11\r\n",
        "mm? What is your conclusion regarding the proportion of scraps?"
      ]
    },
    {
      "cell_type": "code",
      "metadata": {
        "id": "rXcbUEfKSg67"
      },
      "source": [
        "from scipy.stats import norm\r\n",
        "import scipy.integrate as integrate\r\n",
        "import numpy as np"
      ],
      "execution_count": null,
      "outputs": []
    },
    {
      "cell_type": "code",
      "metadata": {
        "id": "uQ94J4qXU-ms"
      },
      "source": [
        "def pdf(d):\r\n",
        "    return 20*np.exp(-20*(d-12.5))"
      ],
      "execution_count": null,
      "outputs": []
    },
    {
      "cell_type": "code",
      "metadata": {
        "id": "YsnKjNeKVBB3"
      },
      "source": [
        "integrate.quad(pdf,12.5,12.6)"
      ],
      "execution_count": null,
      "outputs": []
    },
    {
      "cell_type": "markdown",
      "metadata": {
        "id": "Pd2uMTuaVI_c"
      },
      "source": [
        "## Problem Statement 5:\r\n",
        "\r\n",
        "A company manufactures LED bulbs with a faulty rate of 30%. If I randomly select 6\r\n",
        "chosen LEDs, what is the probability of having 2 faulty LEDs in my sample?\r\n",
        "Calculate the average value of this process. Also evaluate the standard deviation\r\n",
        "associated with it."
      ]
    },
    {
      "cell_type": "code",
      "metadata": {
        "id": "OTp7dhZFVFe2",
        "colab": {
          "base_uri": "https://localhost:8080/"
        },
        "outputId": "8d0a317d-8054-4fab-9b63-4803b0a76154"
      },
      "source": [
        "from scipy.stats import binom\r\n",
        "\r\n",
        "p=binom.pmf(2,6,0.7)\r\n",
        "print(p)"
      ],
      "execution_count": 3,
      "outputs": [
        {
          "output_type": "stream",
          "text": [
            "0.05953500000000001\n"
          ],
          "name": "stdout"
        }
      ]
    },
    {
      "cell_type": "code",
      "metadata": {
        "colab": {
          "base_uri": "https://localhost:8080/"
        },
        "id": "0UzmIIxefdGf",
        "outputId": "41ed6b45-0f62-463d-b276-e89c8c11b548"
      },
      "source": [
        "average,variance = binom.stats(6,p,moments='mv')\r\n",
        "average"
      ],
      "execution_count": 4,
      "outputs": [
        {
          "output_type": "execute_result",
          "data": {
            "text/plain": [
              "array(0.35721)"
            ]
          },
          "metadata": {
            "tags": []
          },
          "execution_count": 4
        }
      ]
    },
    {
      "cell_type": "code",
      "metadata": {
        "colab": {
          "base_uri": "https://localhost:8080/"
        },
        "id": "25W1DN_zfefC",
        "outputId": "4f9ef8e4-bae9-49ec-fc72-3bcc905add80"
      },
      "source": [
        "variance"
      ],
      "execution_count": 5,
      "outputs": [
        {
          "output_type": "execute_result",
          "data": {
            "text/plain": [
              "array(0.3359435)"
            ]
          },
          "metadata": {
            "tags": []
          },
          "execution_count": 5
        }
      ]
    },
    {
      "cell_type": "markdown",
      "metadata": {
        "id": "ptqrAGqkga2N"
      },
      "source": [
        "##Problem Statement 6:\r\n",
        "\r\n",
        "Gaurav and Barakha are both preparing for entrance exams. Gaurav attempts to\r\n",
        "solve 8 questions per day with a correction rate of 75%, while Barakha averages\r\n",
        "around 12 questions per day with a correction rate of 45%. What is the probability\r\n",
        "that each of them will solve 5 questions correctly? What happens in cases of 4 and 6\r\n",
        "correct solutions? What do you infer from it? What are the two main governing\r\n",
        "factors affecting their ability to solve questions correctly? Give a pictorial\r\n",
        "representation of the same to validate your answer."
      ]
    },
    {
      "cell_type": "code",
      "metadata": {
        "id": "9vpeigzkfj4X"
      },
      "source": [
        " "
      ],
      "execution_count": null,
      "outputs": []
    }
  ]
}