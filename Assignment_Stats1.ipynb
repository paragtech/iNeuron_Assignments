{
  "nbformat": 4,
  "nbformat_minor": 0,
  "metadata": {
    "colab": {
      "name": "Assignment Stats1.ipynb",
      "provenance": [],
      "authorship_tag": "ABX9TyMfV9B044Z6Df1RzVMNYHlH",
      "include_colab_link": true
    },
    "kernelspec": {
      "name": "python3",
      "display_name": "Python 3"
    }
  },
  "cells": [
    {
      "cell_type": "markdown",
      "metadata": {
        "id": "view-in-github",
        "colab_type": "text"
      },
      "source": [
        "<a href=\"https://colab.research.google.com/github/paragtech/iNeuron_Assignments_MLDL/blob/master/Assignment_Stats1.ipynb\" target=\"_parent\"><img src=\"https://colab.research.google.com/assets/colab-badge.svg\" alt=\"Open In Colab\"/></a>"
      ]
    },
    {
      "cell_type": "markdown",
      "metadata": {
        "id": "k8AwHqmzrRdH"
      },
      "source": [
        "## Calculate the mean, median, mode and standard deviation for the problem\r\n",
        "statements 1& 2."
      ]
    },
    {
      "cell_type": "markdown",
      "metadata": {
        "id": "pw4yV-eBrO_h"
      },
      "source": [
        "##Problem Statement 1:\r\n",
        "The marks awarded for an assignment set for a Year 8 class of 20 students were as\r\n",
        "follows:\r\n",
        "6 7 5 7 7 8 7 6 9 7 4 10 6 8 8 9 5 6 4 8"
      ]
    },
    {
      "cell_type": "code",
      "metadata": {
        "colab": {
          "base_uri": "https://localhost:8080/"
        },
        "id": "gSSHfohjrAo_",
        "outputId": "7a9d707b-779c-4dd2-e4af-32a8443d17d6"
      },
      "source": [
        "def mean(dt):\r\n",
        "  mean = 0\r\n",
        "  for i in dt:\r\n",
        "    mean=mean+i\r\n",
        "  return mean/len(dt)\r\n",
        "\r\n",
        "dt = [6,7,5,7,7,8,7,6,9,7,4,10,6,8,8,9,5,6,4,8]\r\n",
        "print(\"Mean is :\", mean(dt))"
      ],
      "execution_count": 20,
      "outputs": [
        {
          "output_type": "stream",
          "text": [
            "Mean is : 6.85\n"
          ],
          "name": "stdout"
        }
      ]
    },
    {
      "cell_type": "code",
      "metadata": {
        "id": "MQYlfZH41M6N",
        "colab": {
          "base_uri": "https://localhost:8080/"
        },
        "outputId": "f253592f-8c1e-41e8-b2dc-f59d56ad40be"
      },
      "source": [
        "import numpy as np\r\n",
        "def median(dt):\r\n",
        "    sort_data = np.sort(dt)\r\n",
        "    length = len(sort_data)\r\n",
        "    if length%2 == 0:\r\n",
        "        index = int(length/2)\r\n",
        "        median = sort_data[index-1]\r\n",
        "    else:\r\n",
        "        index1 = int((length+1)/2)\r\n",
        "        index2 = int((length-1)/2)\r\n",
        "        median = (sort_data[index1-1] + sort_data[index2-1])/2\r\n",
        "    return median\r\n",
        "print(\"Median is :\", median(dt))"
      ],
      "execution_count": 19,
      "outputs": [
        {
          "output_type": "stream",
          "text": [
            "Median is : 7\n"
          ],
          "name": "stdout"
        }
      ]
    },
    {
      "cell_type": "code",
      "metadata": {
        "colab": {
          "base_uri": "https://localhost:8080/"
        },
        "id": "pPbB0q5fL-va",
        "outputId": "e52efc16-1f07-4458-b5e4-5270654edfad"
      },
      "source": [
        "from collections import Counter\r\n",
        "def mode1(dt):\r\n",
        "    count = Counter(dt)\r\n",
        "    c=count.most_common(1)\r\n",
        "    return c\r\n",
        "print('Mode is :',mode1(dt))"
      ],
      "execution_count": 18,
      "outputs": [
        {
          "output_type": "stream",
          "text": [
            "Mode is : [(7, 5)]\n"
          ],
          "name": "stdout"
        }
      ]
    },
    {
      "cell_type": "code",
      "metadata": {
        "colab": {
          "base_uri": "https://localhost:8080/"
        },
        "id": "lN6XmOKANC3u",
        "outputId": "ca804787-5a69-4134-ee0b-5b962ef3e1b0"
      },
      "source": [
        "def standard_deviation(dt,mean):\r\n",
        "    s =0\r\n",
        "    for i in dt:\r\n",
        "        diff = (i-mean)**2\r\n",
        "        s += diff\r\n",
        "        diff =0\r\n",
        "    std = (s/len(dt)) ** 0.5\r\n",
        "    return std\r\n",
        "mean=mean(dt)\r\n",
        "print(\"Standard Deviation is :\", standard_deviation(dt,mean))"
      ],
      "execution_count": 23,
      "outputs": [
        {
          "output_type": "stream",
          "text": [
            "Standard Deviation is : 1.5898113095584647\n"
          ],
          "name": "stdout"
        }
      ]
    },
    {
      "cell_type": "markdown",
      "metadata": {
        "id": "6G_FFcxxPV74"
      },
      "source": [
        "## Problem Statement 2 :\r\n",
        "The number of calls from motorists per day for roadside service was recorded for a particular month:\r\n",
        "28, 122, 217, 130, 120, 86, 80, 90, 140, 120, 70, 40, 145, 113, 90, 68, 174, 194, 170,\r\n",
        "100, 75, 104, 97, 75,\r\n",
        "123, 100, 75, 104, 97, 75, 123, 100, 89, 120, 109"
      ]
    },
    {
      "cell_type": "code",
      "metadata": {
        "id": "OWh1v7jqPn5f"
      },
      "source": [
        "no_calls = [28,122,217,130,120,86,80,90,140,120,70,40,145,113,90,68,174,194,170,100,75,104,97,75,123,100,75,104,97,75,123,100,89,120,109]"
      ],
      "execution_count": 29,
      "outputs": []
    },
    {
      "cell_type": "code",
      "metadata": {
        "colab": {
          "base_uri": "https://localhost:8080/"
        },
        "id": "oUm9C4zSOukf",
        "outputId": "d1c7bfd1-8f83-4277-c114-bf673978f63f"
      },
      "source": [
        "mean2 = np.mean(no_calls)\r\n",
        "mean2"
      ],
      "execution_count": 33,
      "outputs": [
        {
          "output_type": "execute_result",
          "data": {
            "text/plain": [
              "107.51428571428572"
            ]
          },
          "metadata": {
            "tags": []
          },
          "execution_count": 33
        }
      ]
    },
    {
      "cell_type": "code",
      "metadata": {
        "colab": {
          "base_uri": "https://localhost:8080/"
        },
        "id": "lZ3CkhMSPxi6",
        "outputId": "7142f19a-2047-4389-f73c-d351749cac57"
      },
      "source": [
        "median2 = np.median(no_calls)\r\n",
        "median2"
      ],
      "execution_count": 35,
      "outputs": [
        {
          "output_type": "execute_result",
          "data": {
            "text/plain": [
              "100.0"
            ]
          },
          "metadata": {
            "tags": []
          },
          "execution_count": 35
        }
      ]
    },
    {
      "cell_type": "code",
      "metadata": {
        "colab": {
          "base_uri": "https://localhost:8080/"
        },
        "id": "aGXO78kIQtiV",
        "outputId": "89ad81e0-75ed-40cf-aa52-8021a903f7fa"
      },
      "source": [
        "from scipy.stats import mode \r\n",
        "mode2 = mode(no_calls)\r\n",
        "mode2"
      ],
      "execution_count": 37,
      "outputs": [
        {
          "output_type": "execute_result",
          "data": {
            "text/plain": [
              "ModeResult(mode=array([75]), count=array([4]))"
            ]
          },
          "metadata": {
            "tags": []
          },
          "execution_count": 37
        }
      ]
    },
    {
      "cell_type": "code",
      "metadata": {
        "colab": {
          "base_uri": "https://localhost:8080/"
        },
        "id": "1RQ7cJj3RB3G",
        "outputId": "87f83c4e-f3a7-4b1d-8d91-5ac0335b7b07"
      },
      "source": [
        "standard_deviation2 = np.std(no_calls)\r\n",
        "standard_deviation2"
      ],
      "execution_count": 38,
      "outputs": [
        {
          "output_type": "execute_result",
          "data": {
            "text/plain": [
              "38.77287080168403"
            ]
          },
          "metadata": {
            "tags": []
          },
          "execution_count": 38
        }
      ]
    },
    {
      "cell_type": "markdown",
      "metadata": {
        "id": "hkfq5cogRUpi"
      },
      "source": [
        "## Problem Statement 3:\r\n",
        "The number of times I go to the gym in weekdays, are given below along with its\r\n",
        "associated probability:\r\n",
        "x = 0, 1, 2, 3, 4, 5\r\n",
        "f(x) = 0.09, 0.15, 0.40, 0.25, 0.10, 0.01\r\n",
        "Calculate the mean no. of workouts in a week. Also evaluate the variance involved in it."
      ]
    },
    {
      "cell_type": "code",
      "metadata": {
        "id": "br6pjhT7RN-R"
      },
      "source": [
        "def mean_prob(x,fx):\r\n",
        "    mean=0\r\n",
        "    for i in range(len(x)):\r\n",
        "        data = x[i]*fx[i]\r\n",
        "        mean = mean+data\r\n",
        "    return mean"
      ],
      "execution_count": 39,
      "outputs": []
    },
    {
      "cell_type": "code",
      "metadata": {
        "id": "Deqt_AG4SQT1"
      },
      "source": [
        "x = [0,1,2,3,4,5]\r\n",
        "fx=[0.09,0.15,0.40,0.25,0.10,0.01]"
      ],
      "execution_count": 41,
      "outputs": []
    },
    {
      "cell_type": "code",
      "metadata": {
        "id": "gHBg1vDpSTBn"
      },
      "source": [
        "a=mean_prob(x,fx)"
      ],
      "execution_count": 43,
      "outputs": []
    },
    {
      "cell_type": "code",
      "metadata": {
        "id": "Iu66CS3oSW8E"
      },
      "source": [
        "def var_prob(x,mean,fx):\r\n",
        "    var=0\r\n",
        "    for i in range(len(x)):\r\n",
        "        data = ((x[i]-mean)**2)*fx[i]\r\n",
        "        var = var+data\r\n",
        "    return var"
      ],
      "execution_count": 44,
      "outputs": []
    },
    {
      "cell_type": "code",
      "metadata": {
        "id": "ctUptyJFSa9U"
      },
      "source": [
        "b=var_prob(x,a,fx)"
      ],
      "execution_count": 45,
      "outputs": []
    },
    {
      "cell_type": "code",
      "metadata": {
        "colab": {
          "base_uri": "https://localhost:8080/"
        },
        "id": "ojTgDwhXSdb6",
        "outputId": "f03fc01c-77e3-4604-fcc5-9b69494c2876"
      },
      "source": [
        "print('Mean no. of Workouts in a week :{} and Variance involved:{}'.format(a,b))"
      ],
      "execution_count": 46,
      "outputs": [
        {
          "output_type": "stream",
          "text": [
            "Mean no. of Workouts in a week :2.15 and Variance involved:1.2275\n"
          ],
          "name": "stdout"
        }
      ]
    },
    {
      "cell_type": "markdown",
      "metadata": {
        "id": "WTfyQHD_SkS2"
      },
      "source": [
        "## Problem Statement 4:\r\n",
        "Let the continuous random variable D denote the diameter of the hole drilled in an\r\n",
        "aluminum sheet. The target diameter to be achieved is 12.5mm. Random\r\n",
        "disturbances in the process often result in inaccuracy.\r\n",
        "Historical data shows that the distribution of D can be modelled by the PDF (d) =\r\n",
        "20e−20(d−12.5), d ≥ 12.5. If a part with diameter > 12.6 mm needs to be scrapped,\r\n",
        "what is the proportion of those parts? What is the CDF when the diameter is of 11\r\n",
        "mm? What is your conclusion regarding the proportion of scraps?"
      ]
    },
    {
      "cell_type": "code",
      "metadata": {
        "id": "rXcbUEfKSg67"
      },
      "source": [
        "from scipy.stats import norm\r\n",
        "import scipy.integrate as integrate\r\n",
        "import numpy as np"
      ],
      "execution_count": 47,
      "outputs": []
    },
    {
      "cell_type": "code",
      "metadata": {
        "id": "uQ94J4qXU-ms"
      },
      "source": [
        "def pdf(d):\r\n",
        "    return 20*np.exp(-20*(d-12.5))"
      ],
      "execution_count": 48,
      "outputs": []
    },
    {
      "cell_type": "code",
      "metadata": {
        "colab": {
          "base_uri": "https://localhost:8080/"
        },
        "id": "YsnKjNeKVBB3",
        "outputId": "eae1f8ce-087b-473b-a4b1-966fc1d5e698"
      },
      "source": [
        "integrate.quad(pdf,12.5,12.6)"
      ],
      "execution_count": 49,
      "outputs": [
        {
          "output_type": "execute_result",
          "data": {
            "text/plain": [
              "(0.8646647167633718, 9.599706771316849e-15)"
            ]
          },
          "metadata": {
            "tags": []
          },
          "execution_count": 49
        }
      ]
    },
    {
      "cell_type": "markdown",
      "metadata": {
        "id": "Pd2uMTuaVI_c"
      },
      "source": [
        "## Problem Statement 5:\r\n",
        "\r\n",
        "A company manufactures LED bulbs with a faulty rate of 30%. If I randomly select 6\r\n",
        "chosen LEDs, what is the probability of having 2 faulty LEDs in my sample?\r\n",
        "Calculate the average value of this process. Also evaluate the standard deviation\r\n",
        "associated with it."
      ]
    },
    {
      "cell_type": "code",
      "metadata": {
        "id": "OTp7dhZFVFe2"
      },
      "source": [
        ""
      ],
      "execution_count": null,
      "outputs": []
    }
  ]
}