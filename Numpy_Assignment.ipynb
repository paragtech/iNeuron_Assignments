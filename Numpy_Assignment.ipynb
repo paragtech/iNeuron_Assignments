{
  "nbformat": 4,
  "nbformat_minor": 0,
  "metadata": {
    "colab": {
      "name": "Numpy_Assignment.ipynb",
      "provenance": [],
      "authorship_tag": "ABX9TyMj3mFmt2v5x3y000ZRKWba",
      "include_colab_link": true
    },
    "kernelspec": {
      "name": "python3",
      "display_name": "Python 3"
    }
  },
  "cells": [
    {
      "cell_type": "markdown",
      "metadata": {
        "id": "view-in-github",
        "colab_type": "text"
      },
      "source": [
        "<a href=\"https://colab.research.google.com/github/paragtech/iNeuron_Assignments_MLDL/blob/master/Numpy_Assignment.ipynb\" target=\"_parent\"><img src=\"https://colab.research.google.com/assets/colab-badge.svg\" alt=\"Open In Colab\"/></a>"
      ]
    },
    {
      "cell_type": "markdown",
      "metadata": {
        "id": "9-DzHjVJLwPy",
        "colab_type": "text"
      },
      "source": [
        "#Write a function so that the columns of the output matrix are powers of the input vector.\n",
        "The order of the powers is determined by the increasing boolean argument. Specifically, when increasing is False, the i-th output column is the input vector raised element-wise to the power of N - i - 1."
      ]
    },
    {
      "cell_type": "code",
      "metadata": {
        "id": "cLqzJLXLI09I",
        "colab_type": "code",
        "colab": {}
      },
      "source": [
        "import numpy as np"
      ],
      "execution_count": 10,
      "outputs": []
    },
    {
      "cell_type": "code",
      "metadata": {
        "id": "fMvcKrFHI5OE",
        "colab_type": "code",
        "colab": {}
      },
      "source": [
        "def alex(Vector, n, increasing = False):\n",
        "  if increasing:\n",
        "    Matrix = np.matrix([x**i for x in Vector for i in range(n)]).reshape(Vector.size, n)\n",
        "  else:\n",
        "    Matrix = np.matrix([x**(n-i-1) for x in Vector for i in range(n)]).reshape(Vector.size, n)\n",
        "  return Matrix"
      ],
      "execution_count": 17,
      "outputs": []
    },
    {
      "cell_type": "code",
      "metadata": {
        "id": "FSM-_vi1I9Qo",
        "colab_type": "code",
        "colab": {}
      },
      "source": [
        "Vector = np.array([1, 3, 5, 7, 9])\n",
        "n = 5"
      ],
      "execution_count": 12,
      "outputs": []
    },
    {
      "cell_type": "code",
      "metadata": {
        "id": "62OCT7UOJA-n",
        "colab_type": "code",
        "colab": {
          "base_uri": "https://localhost:8080/",
          "height": 102
        },
        "outputId": "81acfada-c4a5-4d8a-f07a-f7595f921255"
      },
      "source": [
        "Mtarix_asc = alex(Vector, n, True)\n",
        "Mtarix_asc"
      ],
      "execution_count": 14,
      "outputs": [
        {
          "output_type": "execute_result",
          "data": {
            "text/plain": [
              "matrix([[   1,    1,    1,    1,    1],\n",
              "        [   1,    3,    9,   27,   81],\n",
              "        [   1,    5,   25,  125,  625],\n",
              "        [   1,    7,   49,  343, 2401],\n",
              "        [   1,    9,   81,  729, 6561]])"
            ]
          },
          "metadata": {
            "tags": []
          },
          "execution_count": 14
        }
      ]
    },
    {
      "cell_type": "code",
      "metadata": {
        "id": "Cm6TsVB_JFIJ",
        "colab_type": "code",
        "colab": {
          "base_uri": "https://localhost:8080/",
          "height": 102
        },
        "outputId": "ddfd6367-5174-4a86-a4ad-30c2334e9d03"
      },
      "source": [
        "Mtarix_desc = alex(Vector, n, False)\n",
        "Mtarix_desc"
      ],
      "execution_count": 16,
      "outputs": [
        {
          "output_type": "execute_result",
          "data": {
            "text/plain": [
              "matrix([[   1,    1,    1,    1,    1],\n",
              "        [  81,   27,    9,    3,    1],\n",
              "        [ 625,  125,   25,    5,    1],\n",
              "        [2401,  343,   49,    7,    1],\n",
              "        [6561,  729,   81,    9,    1]])"
            ]
          },
          "metadata": {
            "tags": []
          },
          "execution_count": 16
        }
      ]
    },
    {
      "cell_type": "markdown",
      "metadata": {
        "id": "FPiCvvBUKA5L",
        "colab_type": "text"
      },
      "source": [
        "##**Write a function to find moving average in an array over a window:**\n",
        "Test it over [3, 5, 7, 2, 8, 10, 11, 65, 72, 81, 99, 100, 150] and window of 3"
      ]
    },
    {
      "cell_type": "code",
      "metadata": {
        "id": "4PR9A_guJJzR",
        "colab_type": "code",
        "colab": {}
      },
      "source": [
        "def movingAverage(input, x):\n",
        "  a = 1\n",
        "  output = np.convolve(input, np.ones(x), 'valid') / x\n",
        "  for i in output:\n",
        "    print(\"y{0} = {1:.2f}\".format(a, i))\n",
        "    a += 1"
      ],
      "execution_count": 8,
      "outputs": []
    },
    {
      "cell_type": "code",
      "metadata": {
        "id": "nyr-dNHxKCpI",
        "colab_type": "code",
        "colab": {
          "base_uri": "https://localhost:8080/",
          "height": 204
        },
        "outputId": "d687faf1-014d-4ae1-8ab4-8c9e0cb21106"
      },
      "source": [
        "input = np.array([3, 5, 7, 2, 8, 10, 11, 65, 72, 81, 99, 100, 150])\n",
        "x = 3\n",
        "movingAverage(input, x)"
      ],
      "execution_count": 9,
      "outputs": [
        {
          "output_type": "stream",
          "text": [
            "y1 = 5.00\n",
            "y2 = 4.67\n",
            "y3 = 5.67\n",
            "y4 = 6.67\n",
            "y5 = 9.67\n",
            "y6 = 28.67\n",
            "y7 = 49.33\n",
            "y8 = 72.67\n",
            "y9 = 84.00\n",
            "y10 = 93.33\n",
            "y11 = 116.33\n"
          ],
          "name": "stdout"
        }
      ]
    },
    {
      "cell_type": "code",
      "metadata": {
        "id": "Ycw5g7phKHFb",
        "colab_type": "code",
        "colab": {}
      },
      "source": [
        ""
      ],
      "execution_count": null,
      "outputs": []
    }
  ]
}