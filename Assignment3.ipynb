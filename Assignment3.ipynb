{
  "nbformat": 4,
  "nbformat_minor": 0,
  "metadata": {
    "colab": {
      "name": "Assignment3.ipynb",
      "provenance": [],
      "authorship_tag": "ABX9TyO/J0i0+YUn6a3ZR7W6tlyb",
      "include_colab_link": true
    },
    "kernelspec": {
      "name": "python3",
      "display_name": "Python 3"
    }
  },
  "cells": [
    {
      "cell_type": "markdown",
      "metadata": {
        "id": "view-in-github",
        "colab_type": "text"
      },
      "source": [
        "<a href=\"https://colab.research.google.com/github/paragtech/iNeuron_Assignments/blob/master/Assignment3.ipynb\" target=\"_parent\"><img src=\"https://colab.research.google.com/assets/colab-badge.svg\" alt=\"Open In Colab\"/></a>"
      ]
    },
    {
      "cell_type": "markdown",
      "metadata": {
        "id": "tAdWPwFPBWYx",
        "colab_type": "text"
      },
      "source": [
        "**1.1 Write a Python Program to implement your own myreduce() function which works exactly like Python's built-in function reduce()**"
      ]
    },
    {
      "cell_type": "code",
      "metadata": {
        "id": "W_qMoVZ5BYQ3",
        "colab_type": "code",
        "colab": {
          "base_uri": "https://localhost:8080/",
          "height": 34
        },
        "outputId": "827e0184-d421-4b44-b84c-a8ace80b7d5d"
      },
      "source": [
        "def myreduce(func, values):\n",
        "    result = values[0]\n",
        "    for i in values[1:]:\n",
        "        result = func(result, i)\n",
        "    return result\n",
        "\n",
        "def func(x,y):\n",
        "    return x*y\n",
        "\n",
        "list1 = [14,20,1,8,25,98]\n",
        "print(f\"My Reduce Output is: {myreduce(func, list1)}\")\n"
      ],
      "execution_count": null,
      "outputs": [
        {
          "output_type": "stream",
          "text": [
            "My Reduce Output is: 5488000\n"
          ],
          "name": "stdout"
        }
      ]
    },
    {
      "cell_type": "markdown",
      "metadata": {
        "id": "YwcCLw0BC0sd",
        "colab_type": "text"
      },
      "source": [
        "**1.2 Write a Python program to implement your own myfilter() function which works exactly like Python's built-in function filter()**"
      ]
    },
    {
      "cell_type": "code",
      "metadata": {
        "id": "K-PM2X6-BvUF",
        "colab_type": "code",
        "colab": {
          "base_uri": "https://localhost:8080/",
          "height": 34
        },
        "outputId": "1b60dd5b-6ed8-4908-c3b1-b94a0e8e26a2"
      },
      "source": [
        "def myfilter(func, values):\n",
        "    result = list()\n",
        "    for i in values:\n",
        "        if fun(i):\n",
        "            result.append(i)\n",
        "    return result\n",
        "\n",
        "def func(x):\n",
        "    if x % 5 == 0:\n",
        "        return True\n",
        "    else:\n",
        "        return False\n",
        "\n",
        "lt = [14,20,1,8,25,98]\n",
        "print(f\"My Filter Output is: {myfilter(func, lt)}\")"
      ],
      "execution_count": null,
      "outputs": [
        {
          "output_type": "stream",
          "text": [
            "My Filter Output is: [20, 25]\n"
          ],
          "name": "stdout"
        }
      ]
    },
    {
      "cell_type": "markdown",
      "metadata": {
        "id": "yN3TQkdTEXjs",
        "colab_type": "text"
      },
      "source": [
        "### Implement List comprehensions to produce the following lists.\n",
        "1. ['x', 'xx', 'xxx', 'xxxx', 'y', 'yy', 'yyy', 'yyyy', 'z', 'zz', 'zzz', 'zzzz'] "
      ]
    },
    {
      "cell_type": "code",
      "metadata": {
        "id": "EZQErdqSC9q5",
        "colab_type": "code",
        "colab": {
          "base_uri": "https://localhost:8080/",
          "height": 34
        },
        "outputId": "58196422-2993-4e4f-84a4-638262e233d5"
      },
      "source": [
        "a= ['X','Y','Z']\n",
        "result = [i*j for i in a for j in range(1,5)]\n",
        "result"
      ],
      "execution_count": null,
      "outputs": [
        {
          "output_type": "execute_result",
          "data": {
            "text/plain": [
              "['X', 'XX', 'XXX', 'XXXX', 'Y', 'YY', 'YYY', 'YYYY', 'Z', 'ZZ', 'ZZZ', 'ZZZZ']"
            ]
          },
          "metadata": {
            "tags": []
          },
          "execution_count": 14
        }
      ]
    },
    {
      "cell_type": "markdown",
      "metadata": {
        "id": "rDlXCUwpEXfI",
        "colab_type": "text"
      },
      "source": [
        "######2. ['x', 'y', 'z', 'xx', 'yy', 'zz', 'xxx', 'yyy', 'zzz', 'xxxx', 'yyyy', 'zzzz']"
      ]
    },
    {
      "cell_type": "code",
      "metadata": {
        "id": "7eW26ZGZF7zJ",
        "colab_type": "code",
        "colab": {
          "base_uri": "https://localhost:8080/",
          "height": 34
        },
        "outputId": "bcc61a9f-79a0-4e50-f696-28ab1763f4b9"
      },
      "source": [
        "b= ['X','Y','Z']\n",
        "result = [i*j  for j in range(1,5) for i in b]\n",
        "result"
      ],
      "execution_count": null,
      "outputs": [
        {
          "output_type": "execute_result",
          "data": {
            "text/plain": [
              "['X', 'Y', 'Z', 'XX', 'YY', 'ZZ', 'XXX', 'YYY', 'ZZZ', 'XXXX', 'YYYY', 'ZZZZ']"
            ]
          },
          "metadata": {
            "tags": []
          },
          "execution_count": 16
        }
      ]
    },
    {
      "cell_type": "markdown",
      "metadata": {
        "id": "CuP0aF1fGbNO",
        "colab_type": "text"
      },
      "source": [
        "3. [[2], [3], [4], [3], [4], [5], [4], [5], [6]]"
      ]
    },
    {
      "cell_type": "code",
      "metadata": {
        "id": "UYJkY8ahGu9M",
        "colab_type": "code",
        "colab": {
          "base_uri": "https://localhost:8080/",
          "height": 34
        },
        "outputId": "c3371d6d-cee7-4e83-d9b5-b376e3214fce"
      },
      "source": [
        "d = [[p + q] for q in range(3) for p in range(2, 5)]\n",
        "d"
      ],
      "execution_count": null,
      "outputs": [
        {
          "output_type": "execute_result",
          "data": {
            "text/plain": [
              "[[2], [3], [4], [3], [4], [5], [4], [5], [6]]"
            ]
          },
          "metadata": {
            "tags": []
          },
          "execution_count": 22
        }
      ]
    },
    {
      "cell_type": "markdown",
      "metadata": {
        "id": "G6bUvXFhHbTM",
        "colab_type": "text"
      },
      "source": [
        "4. [[2, 3, 4, 5], [3, 4, 5, 6], [4, 5, 6, 7], [5, 6, 7, 8]]"
      ]
    },
    {
      "cell_type": "code",
      "metadata": {
        "id": "6MeilwhJGXyn",
        "colab_type": "code",
        "colab": {
          "base_uri": "https://localhost:8080/",
          "height": 34
        },
        "outputId": "74eae30a-eb83-42ee-a07b-be4a1e8e1801"
      },
      "source": [
        "c = [[x+y for y in range(2, 6)] for x in range(4)]\n",
        "c"
      ],
      "execution_count": null,
      "outputs": [
        {
          "output_type": "execute_result",
          "data": {
            "text/plain": [
              "[[2, 3, 4, 5], [3, 4, 5, 6], [4, 5, 6, 7], [5, 6, 7, 8]]"
            ]
          },
          "metadata": {
            "tags": []
          },
          "execution_count": 21
        }
      ]
    },
    {
      "cell_type": "markdown",
      "metadata": {
        "id": "012UB4JTHz_W",
        "colab_type": "text"
      },
      "source": [
        "### 5. [(1, 1), (2, 1), (3, 1), (1, 2), (2, 2), (3, 2), (1, 3), (2, 3), (3, 3)]"
      ]
    },
    {
      "cell_type": "code",
      "metadata": {
        "id": "3Yj0zgMWG_VR",
        "colab_type": "code",
        "colab": {
          "base_uri": "https://localhost:8080/",
          "height": 34
        },
        "outputId": "16cf048f-54aa-4f3a-94ae-04e945b016bd"
      },
      "source": [
        "e = [(l, m) for m in range(1, 4) for l in range(1, 4)]\n",
        "e"
      ],
      "execution_count": null,
      "outputs": [
        {
          "output_type": "execute_result",
          "data": {
            "text/plain": [
              "[(1, 1), (2, 1), (3, 1), (1, 2), (2, 2), (3, 2), (1, 3), (2, 3), (3, 3)]"
            ]
          },
          "metadata": {
            "tags": []
          },
          "execution_count": 25
        }
      ]
    }
  ]
}