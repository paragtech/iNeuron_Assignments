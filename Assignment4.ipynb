{
  "nbformat": 4,
  "nbformat_minor": 0,
  "metadata": {
    "colab": {
      "name": "Assignment4.ipynb",
      "provenance": [],
      "collapsed_sections": [],
      "authorship_tag": "ABX9TyMfRAez951OQ4VL7580xTKh",
      "include_colab_link": true
    },
    "kernelspec": {
      "name": "python3",
      "display_name": "Python 3"
    }
  },
  "cells": [
    {
      "cell_type": "markdown",
      "metadata": {
        "id": "view-in-github",
        "colab_type": "text"
      },
      "source": [
        "<a href=\"https://colab.research.google.com/github/paragtech/iNeuron_Assignments/blob/master/Assignment4.ipynb\" target=\"_parent\"><img src=\"https://colab.research.google.com/assets/colab-badge.svg\" alt=\"Open In Colab\"/></a>"
      ]
    },
    {
      "cell_type": "markdown",
      "metadata": {
        "id": "wIetcyDy6Jut",
        "colab_type": "text"
      },
      "source": [
        "##1.1 Write a Python Program(with class concepts) to find the area of the triangle using the below formula.\n",
        "##area = (s*(s-a)*(s-b)*(s-c)) ** 0.5\n",
        "##Function to take the length of the sides of triangle from user should be defined in the parent class and function to calculate the area should be defined in subclass."
      ]
    },
    {
      "cell_type": "code",
      "metadata": {
        "id": "bQHxMI5U6IRl",
        "colab_type": "code",
        "colab": {
          "base_uri": "https://localhost:8080/",
          "height": 85
        },
        "outputId": "aa6e1470-6261-45d1-d096-2a81cf46e843"
      },
      "source": [
        "class Triangle:\n",
        "    def __init__(self):\n",
        "        self.a = float(input(\"Please enter side a: \"))\n",
        "        self.b = float(input(\"Please enter side b: \"))\n",
        "        self.c = float(input(\"Please enter side c: \"))\n",
        "\n",
        "class Area(Triangle):\n",
        "    def area(self):\n",
        "        s = (self.a + self.b + self.c) / 2\n",
        "        area = (s * (s - self.a)*(s - self.b)*(s - self.c)) ** 0.5\n",
        "        return area\n",
        "A = Area()\n",
        "print(\"Area of triangle is \",A.area(),\"cm\\u00b2\")"
      ],
      "execution_count": 4,
      "outputs": [
        {
          "output_type": "stream",
          "text": [
            "Please enter side a: 5\n",
            "Please enter side b: 6\n",
            "Please enter side c: 7\n",
            "Area of triangle is  14.696938456699069 cm²\n"
          ],
          "name": "stdout"
        }
      ]
    },
    {
      "cell_type": "markdown",
      "metadata": {
        "id": "gnfJnhT28x2q",
        "colab_type": "text"
      },
      "source": [
        "##1.2  Write a function filter_long_words() that takes a list of words and an integer n and returns the list of words that are longer than n."
      ]
    },
    {
      "cell_type": "code",
      "metadata": {
        "id": "T3e4rFBI7_8p",
        "colab_type": "code",
        "colab": {
          "base_uri": "https://localhost:8080/",
          "height": 34
        },
        "outputId": "9a3d39eb-a820-4eeb-d48b-2d52a5f9db3b"
      },
      "source": [
        "def filter_long_words(words, n):\n",
        "    l = list()\n",
        "    for i in words:\n",
        "        if len(i) > n:\n",
        "            l.append(i)\n",
        "    print(\"Long words are: \", l)\n",
        "filter_long_words(['abcd','xyz','ij'],2)"
      ],
      "execution_count": 7,
      "outputs": [
        {
          "output_type": "stream",
          "text": [
            "Long words are:  ['abcd', 'xyz']\n"
          ],
          "name": "stdout"
        }
      ]
    },
    {
      "cell_type": "markdown",
      "metadata": {
        "id": "bjo1fbMDcIJt",
        "colab_type": "text"
      },
      "source": [
        "##2.1 Write a Python program using function concept that maps list of words into a list of integers representing the lengths of the corresponding words.\n",
        "Hint: If a list [ ab,cde,erty] is passed on to the python function output should come as [2,3,4] Here 2,3 and 4 are the lengths of the words in the list."
      ]
    },
    {
      "cell_type": "code",
      "metadata": {
        "id": "ntuGUBEm900B",
        "colab_type": "code",
        "colab": {
          "base_uri": "https://localhost:8080/",
          "height": 34
        },
        "outputId": "afc84380-7377-41f0-a215-84685b88554e"
      },
      "source": [
        "def len_of_words(words):\n",
        "    return len(words)\n",
        "l = ['ab', 'cde', 'erty']\n",
        "r = map(len_of_words, l)\n",
        "list(r)"
      ],
      "execution_count": 3,
      "outputs": [
        {
          "output_type": "execute_result",
          "data": {
            "text/plain": [
              "[2, 3, 4]"
            ]
          },
          "metadata": {
            "tags": []
          },
          "execution_count": 3
        }
      ]
    },
    {
      "cell_type": "markdown",
      "metadata": {
        "id": "ul72Kf51cPw-",
        "colab_type": "text"
      },
      "source": [
        "##2.2 Write a Python function which takes a character (i.e. a string of length 1) and returns True if it is a vowel, False otherwise."
      ]
    },
    {
      "cell_type": "code",
      "metadata": {
        "id": "km9ZjvaYbwUU",
        "colab_type": "code",
        "colab": {
          "base_uri": "https://localhost:8080/",
          "height": 51
        },
        "outputId": "28371cc5-2f3f-486d-e8c8-e06bef7041fa"
      },
      "source": [
        "def find_vowel(char):\n",
        "    l=['a','e','i','o','u']\n",
        "    if char in l:\n",
        "        return True\n",
        "    else:\n",
        "        return False\n",
        "find_vowel(input(\"Input your character \"))"
      ],
      "execution_count": 5,
      "outputs": [
        {
          "output_type": "stream",
          "text": [
            "Input your character r\n"
          ],
          "name": "stdout"
        },
        {
          "output_type": "execute_result",
          "data": {
            "text/plain": [
              "False"
            ]
          },
          "metadata": {
            "tags": []
          },
          "execution_count": 5
        }
      ]
    },
    {
      "cell_type": "code",
      "metadata": {
        "id": "Opm-BZhVc40R",
        "colab_type": "code",
        "colab": {}
      },
      "source": [
        ""
      ],
      "execution_count": null,
      "outputs": []
    }
  ]
}